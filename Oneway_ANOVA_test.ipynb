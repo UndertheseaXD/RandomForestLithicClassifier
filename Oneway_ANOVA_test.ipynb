{
  "cells": [
    {
      "cell_type": "code",
      "execution_count": 1,
      "metadata": {
        "colab": {
          "base_uri": "https://localhost:8080/",
          "height": 73
        },
        "id": "f82dhwVCzafC",
        "outputId": "16f97d64-dad2-4c4c-b854-9dc1e41c2ab6"
      },
      "outputs": [
        {
          "output_type": "display_data",
          "data": {
            "text/plain": [
              "<IPython.core.display.HTML object>"
            ],
            "text/html": [
              "\n",
              "     <input type=\"file\" id=\"files-05ce9e9c-3f6b-4aae-bc01-86549b8c26c2\" name=\"files[]\" multiple disabled\n",
              "        style=\"border:none\" />\n",
              "     <output id=\"result-05ce9e9c-3f6b-4aae-bc01-86549b8c26c2\">\n",
              "      Upload widget is only available when the cell has been executed in the\n",
              "      current browser session. Please rerun this cell to enable.\n",
              "      </output>\n",
              "      <script>// Copyright 2017 Google LLC\n",
              "//\n",
              "// Licensed under the Apache License, Version 2.0 (the \"License\");\n",
              "// you may not use this file except in compliance with the License.\n",
              "// You may obtain a copy of the License at\n",
              "//\n",
              "//      http://www.apache.org/licenses/LICENSE-2.0\n",
              "//\n",
              "// Unless required by applicable law or agreed to in writing, software\n",
              "// distributed under the License is distributed on an \"AS IS\" BASIS,\n",
              "// WITHOUT WARRANTIES OR CONDITIONS OF ANY KIND, either express or implied.\n",
              "// See the License for the specific language governing permissions and\n",
              "// limitations under the License.\n",
              "\n",
              "/**\n",
              " * @fileoverview Helpers for google.colab Python module.\n",
              " */\n",
              "(function(scope) {\n",
              "function span(text, styleAttributes = {}) {\n",
              "  const element = document.createElement('span');\n",
              "  element.textContent = text;\n",
              "  for (const key of Object.keys(styleAttributes)) {\n",
              "    element.style[key] = styleAttributes[key];\n",
              "  }\n",
              "  return element;\n",
              "}\n",
              "\n",
              "// Max number of bytes which will be uploaded at a time.\n",
              "const MAX_PAYLOAD_SIZE = 100 * 1024;\n",
              "\n",
              "function _uploadFiles(inputId, outputId) {\n",
              "  const steps = uploadFilesStep(inputId, outputId);\n",
              "  const outputElement = document.getElementById(outputId);\n",
              "  // Cache steps on the outputElement to make it available for the next call\n",
              "  // to uploadFilesContinue from Python.\n",
              "  outputElement.steps = steps;\n",
              "\n",
              "  return _uploadFilesContinue(outputId);\n",
              "}\n",
              "\n",
              "// This is roughly an async generator (not supported in the browser yet),\n",
              "// where there are multiple asynchronous steps and the Python side is going\n",
              "// to poll for completion of each step.\n",
              "// This uses a Promise to block the python side on completion of each step,\n",
              "// then passes the result of the previous step as the input to the next step.\n",
              "function _uploadFilesContinue(outputId) {\n",
              "  const outputElement = document.getElementById(outputId);\n",
              "  const steps = outputElement.steps;\n",
              "\n",
              "  const next = steps.next(outputElement.lastPromiseValue);\n",
              "  return Promise.resolve(next.value.promise).then((value) => {\n",
              "    // Cache the last promise value to make it available to the next\n",
              "    // step of the generator.\n",
              "    outputElement.lastPromiseValue = value;\n",
              "    return next.value.response;\n",
              "  });\n",
              "}\n",
              "\n",
              "/**\n",
              " * Generator function which is called between each async step of the upload\n",
              " * process.\n",
              " * @param {string} inputId Element ID of the input file picker element.\n",
              " * @param {string} outputId Element ID of the output display.\n",
              " * @return {!Iterable<!Object>} Iterable of next steps.\n",
              " */\n",
              "function* uploadFilesStep(inputId, outputId) {\n",
              "  const inputElement = document.getElementById(inputId);\n",
              "  inputElement.disabled = false;\n",
              "\n",
              "  const outputElement = document.getElementById(outputId);\n",
              "  outputElement.innerHTML = '';\n",
              "\n",
              "  const pickedPromise = new Promise((resolve) => {\n",
              "    inputElement.addEventListener('change', (e) => {\n",
              "      resolve(e.target.files);\n",
              "    });\n",
              "  });\n",
              "\n",
              "  const cancel = document.createElement('button');\n",
              "  inputElement.parentElement.appendChild(cancel);\n",
              "  cancel.textContent = 'Cancel upload';\n",
              "  const cancelPromise = new Promise((resolve) => {\n",
              "    cancel.onclick = () => {\n",
              "      resolve(null);\n",
              "    };\n",
              "  });\n",
              "\n",
              "  // Wait for the user to pick the files.\n",
              "  const files = yield {\n",
              "    promise: Promise.race([pickedPromise, cancelPromise]),\n",
              "    response: {\n",
              "      action: 'starting',\n",
              "    }\n",
              "  };\n",
              "\n",
              "  cancel.remove();\n",
              "\n",
              "  // Disable the input element since further picks are not allowed.\n",
              "  inputElement.disabled = true;\n",
              "\n",
              "  if (!files) {\n",
              "    return {\n",
              "      response: {\n",
              "        action: 'complete',\n",
              "      }\n",
              "    };\n",
              "  }\n",
              "\n",
              "  for (const file of files) {\n",
              "    const li = document.createElement('li');\n",
              "    li.append(span(file.name, {fontWeight: 'bold'}));\n",
              "    li.append(span(\n",
              "        `(${file.type || 'n/a'}) - ${file.size} bytes, ` +\n",
              "        `last modified: ${\n",
              "            file.lastModifiedDate ? file.lastModifiedDate.toLocaleDateString() :\n",
              "                                    'n/a'} - `));\n",
              "    const percent = span('0% done');\n",
              "    li.appendChild(percent);\n",
              "\n",
              "    outputElement.appendChild(li);\n",
              "\n",
              "    const fileDataPromise = new Promise((resolve) => {\n",
              "      const reader = new FileReader();\n",
              "      reader.onload = (e) => {\n",
              "        resolve(e.target.result);\n",
              "      };\n",
              "      reader.readAsArrayBuffer(file);\n",
              "    });\n",
              "    // Wait for the data to be ready.\n",
              "    let fileData = yield {\n",
              "      promise: fileDataPromise,\n",
              "      response: {\n",
              "        action: 'continue',\n",
              "      }\n",
              "    };\n",
              "\n",
              "    // Use a chunked sending to avoid message size limits. See b/62115660.\n",
              "    let position = 0;\n",
              "    do {\n",
              "      const length = Math.min(fileData.byteLength - position, MAX_PAYLOAD_SIZE);\n",
              "      const chunk = new Uint8Array(fileData, position, length);\n",
              "      position += length;\n",
              "\n",
              "      const base64 = btoa(String.fromCharCode.apply(null, chunk));\n",
              "      yield {\n",
              "        response: {\n",
              "          action: 'append',\n",
              "          file: file.name,\n",
              "          data: base64,\n",
              "        },\n",
              "      };\n",
              "\n",
              "      let percentDone = fileData.byteLength === 0 ?\n",
              "          100 :\n",
              "          Math.round((position / fileData.byteLength) * 100);\n",
              "      percent.textContent = `${percentDone}% done`;\n",
              "\n",
              "    } while (position < fileData.byteLength);\n",
              "  }\n",
              "\n",
              "  // All done.\n",
              "  yield {\n",
              "    response: {\n",
              "      action: 'complete',\n",
              "    }\n",
              "  };\n",
              "}\n",
              "\n",
              "scope.google = scope.google || {};\n",
              "scope.google.colab = scope.google.colab || {};\n",
              "scope.google.colab._files = {\n",
              "  _uploadFiles,\n",
              "  _uploadFilesContinue,\n",
              "};\n",
              "})(self);\n",
              "</script> "
            ]
          },
          "metadata": {}
        },
        {
          "output_type": "stream",
          "name": "stdout",
          "text": [
            "Saving MasterTrainingData.xlsx to MasterTrainingData.xlsx\n"
          ]
        }
      ],
      "source": [
        "from google.colab import files\n",
        "uploaded = files.upload()"
      ]
    },
    {
      "cell_type": "code",
      "execution_count": null,
      "metadata": {
        "id": "F9Z30k5JEVlL"
      },
      "outputs": [],
      "source": []
    },
    {
      "cell_type": "code",
      "execution_count": 2,
      "metadata": {
        "id": "vHZIlusgzwhf"
      },
      "outputs": [],
      "source": [
        "import pandas as pd\n",
        "import numpy as np\n",
        "from scipy.stats import f_oneway\n",
        "\n",
        "\n",
        "data = pd.read_excel(\"MasterTrainingData.xlsx\")\n",
        "df = pd.DataFrame(data)"
      ]
    },
    {
      "cell_type": "code",
      "execution_count": null,
      "metadata": {
        "id": "ZO-1cTPR0aQt"
      },
      "outputs": [],
      "source": [
        "\n"
      ]
    },
    {
      "cell_type": "code",
      "execution_count": 3,
      "metadata": {
        "id": "4SHuyDmr5OY1"
      },
      "outputs": [],
      "source": [
        "grouped_Assemblage = df.groupby(\"Assemblage\")"
      ]
    },
    {
      "cell_type": "code",
      "execution_count": null,
      "metadata": {
        "id": "Xip5SV2V5eA_"
      },
      "outputs": [],
      "source": []
    },
    {
      "cell_type": "code",
      "execution_count": 4,
      "metadata": {
        "id": "-N7aLeck6DKA"
      },
      "outputs": [],
      "source": [
        "dict_of_dfs = {group_name: group_df.copy() for group_name, group_df in grouped_Assemblage}\n"
      ]
    },
    {
      "cell_type": "code",
      "execution_count": 5,
      "metadata": {
        "colab": {
          "base_uri": "https://localhost:8080/"
        },
        "id": "XGqUou5ZFsvl",
        "outputId": "0050c250-7d59-49f1-d6e9-d46ac532cd7d"
      },
      "outputs": [
        {
          "output_type": "execute_result",
          "data": {
            "text/plain": [
              "{'Direct':            PlottedFind    Scan Assemblage Source   Treatment        L       A  \\\n",
              " 258   RIV.002B.22_DH_3   Scan3     Direct    RIV  Overheated  59.7419  1.1604   \n",
              " 259   RIV.002B.22_DH_2   Scan2     Direct    RIV  Overheated  58.7562  1.2800   \n",
              " 260   RIV.002B.22_DH_1   Scan1     Direct    RIV  Overheated  60.4038  2.5937   \n",
              " 261   RIV.002B.25_DH_3   Scan3     Direct    RIV  Overheated  56.4121  1.0198   \n",
              " 262   RIV.002B.25_DH_2   Scan2     Direct    RIV  Overheated  60.2328  1.4092   \n",
              " ...                ...     ...        ...    ...         ...      ...     ...   \n",
              " 2524        E9.06B.005  Scan 2     Direct     E9      Heated  61.2408  7.8142   \n",
              " 2525        E9.06B.005  Scan 1     Direct     E9      Heated  61.3349  7.7188   \n",
              " 2526        E9.06B.003  Scan 3     Direct     E9      Heated  67.8584  4.9514   \n",
              " 2527        E9.06B.003  Scan 2     Direct     E9      Heated  61.1749  6.9625   \n",
              " 2528        E9.06B.003  Scan 1     Direct     E9      Heated  60.6711  6.3249   \n",
              " \n",
              "             B       400       410  ...       610       620       630  \\\n",
              " 258    7.2919  0.196684  0.215846  ...  0.297532  0.297790  0.298559   \n",
              " 259    8.5570  0.181217  0.198641  ...  0.290181  0.290648  0.290735   \n",
              " 260   11.4988  0.181617  0.195399  ...  0.319832  0.323709  0.329336   \n",
              " 261    7.0088  0.171498  0.187107  ...  0.258858  0.259907  0.262127   \n",
              " 262    7.0155  0.198913  0.220603  ...  0.303435  0.303973  0.304576   \n",
              " ...       ...       ...       ...  ...       ...       ...       ...   \n",
              " 2524  21.8190  0.134270  0.135602  ...  0.391894  0.397424  0.403546   \n",
              " 2525  19.5574  0.147045  0.150808  ...  0.389488  0.393863  0.399000   \n",
              " 2526  17.8472  0.185980  0.200447  ...  0.458263  0.459002  0.463825   \n",
              " 2527  19.4165  0.145733  0.149591  ...  0.380322  0.383525  0.387705   \n",
              " 2528  17.5265  0.153133  0.158430  ...  0.365742  0.369781  0.374404   \n",
              " \n",
              "            640       650       660       670       680       690       700  \n",
              " 258   0.300103  0.302927  0.304649  0.303752  0.303565  0.302383  0.301404  \n",
              " 259   0.291229  0.293439  0.295047  0.294568  0.294577  0.293752  0.293013  \n",
              " 260   0.334271  0.338302  0.339959  0.337997  0.337330  0.336953  0.338344  \n",
              " 261   0.263272  0.263808  0.262598  0.261025  0.261250  0.261785  0.263387  \n",
              " 262   0.305924  0.308533  0.309900  0.308834  0.308706  0.307644  0.307007  \n",
              " ...        ...       ...       ...       ...       ...       ...       ...  \n",
              " 2524  0.407890  0.419166  0.427186  0.433010  0.441891  0.447954  0.455630  \n",
              " 2525  0.403568  0.413860  0.421150  0.425493  0.431257  0.434608  0.440117  \n",
              " 2526  0.470258  0.483123  0.492988  0.497666  0.502272  0.503705  0.506485  \n",
              " 2527  0.391217  0.399811  0.404975  0.407139  0.410494  0.412109  0.416290  \n",
              " 2528  0.378096  0.386101  0.390940  0.392109  0.393362  0.393480  0.395201  \n",
              " \n",
              " [405 rows x 39 columns],\n",
              " 'Ember':             PlottedFind    Scan Assemblage Source Treatment        L        A  \\\n",
              " 0     D9.02.01B.21_EM_3   Scan3      Ember     D9    Heated  35.3318   6.2941   \n",
              " 1     D9.02.01B.21_EM_2   Scan2      Ember     D9    Heated  39.5810   6.7049   \n",
              " 2     D9.02.01B.21_EM_1   Scan1      Ember     D9    Heated  37.0960   6.1916   \n",
              " 3     D9.02.01B.25_EM_3   Scan3      Ember     D9    Heated  26.6245   5.3029   \n",
              " 4     D9.02.01B.25_EM_2   Scan2      Ember     D9    Heated  28.2648   4.5728   \n",
              " ...                 ...     ...        ...    ...       ...      ...      ...   \n",
              " 2638      D9.02.04B.009  Scan 2      Ember     D9    Heated  54.6590   9.1826   \n",
              " 2639      D9.02.04B.009  Scan 1      Ember     D9    Heated  50.3746  11.6241   \n",
              " 2640      D9.02.04B.005  Scan 3      Ember     D9    Heated  41.0294   3.4891   \n",
              " 2641      D9.02.04B.005  Scan 2      Ember     D9    Heated  45.8386   3.4541   \n",
              " 2642      D9.02.04B.005  Scan 1      Ember     D9    Heated  41.5708   7.3197   \n",
              " \n",
              "             B       400       410  ...       610       620       630  \\\n",
              " 0     11.4943  0.060302  0.058517  ...  0.113737  0.117236  0.118931   \n",
              " 1      9.2102  0.083880  0.083499  ...  0.142109  0.143794  0.144702   \n",
              " 2      8.3717  0.078887  0.076247  ...  0.122921  0.126527  0.127520   \n",
              " 3      3.9132  0.050117  0.048243  ...  0.064328  0.070718  0.070220   \n",
              " 4      6.7805  0.043424  0.040812  ...  0.071691  0.070814  0.069684   \n",
              " ...       ...       ...       ...  ...       ...       ...       ...   \n",
              " 2638  14.5309  0.127084  0.130877  ...  0.304266  0.307911  0.312277   \n",
              " 2639  12.2348  0.120548  0.123542  ...  0.269552  0.274906  0.279823   \n",
              " 2640   7.7996  0.085486  0.086400  ...  0.140592  0.141098  0.141909   \n",
              " 2641   7.6307  0.103690  0.106806  ...  0.176695  0.177003  0.178173   \n",
              " 2642  10.6370  0.082004  0.082793  ...  0.161574  0.163811  0.166008   \n",
              " \n",
              "            640       650       660       670       680       690       700  \n",
              " 0     0.120261  0.121811  0.122694  0.123149  0.123382  0.124941  0.125273  \n",
              " 1     0.144891  0.146356  0.146531  0.146624  0.147172  0.147922  0.148207  \n",
              " 2     0.127196  0.127973  0.127804  0.127201  0.125817  0.124493  0.122990  \n",
              " 3     0.067402  0.064062  0.064777  0.067402  0.069492  0.071858  0.073544  \n",
              " 4     0.067824  0.068162  0.069882  0.073120  0.076106  0.079135  0.079003  \n",
              " ...        ...       ...       ...       ...       ...       ...       ...  \n",
              " 2638  0.315738  0.323142  0.329400  0.334121  0.340021  0.345956  0.352998  \n",
              " 2639  0.284541  0.292898  0.300060  0.306212  0.312675  0.319545  0.327380  \n",
              " 2640  0.142399  0.144814  0.145838  0.146991  0.148705  0.150995  0.153002  \n",
              " 2641  0.179137  0.182023  0.184432  0.186096  0.188295  0.190809  0.193617  \n",
              " 2642  0.167759  0.170552  0.171955  0.173763  0.176601  0.179917  0.183628  \n",
              " \n",
              " [261 rows x 39 columns],\n",
              " 'Kiln':         PlottedFind   Scan Assemblage Source Treatment        L        A  \\\n",
              " 492    E3.1.1B.30_2  Scan1       Kiln     E3      Kiln  37.4773  12.0252   \n",
              " 493    E3.1.1B.30_1  Scan2       Kiln     E3      Kiln  35.1591  10.5773   \n",
              " 494    E3.1.1B.12_2  Scan1       Kiln     E3      Kiln  37.3066  11.1865   \n",
              " 495    E3.1.1B.12_1  Scan2       Kiln     E3      Kiln  35.9823  12.6680   \n",
              " 496    E3.1.1B.33_2  Scan1       Kiln     E3      Kiln  37.9653  11.9937   \n",
              " 497    E3.1.1B.33_1  Scan2       Kiln     E3      Kiln  41.1149  14.2167   \n",
              " 498    E3.1.1B.25_2  Scan1       Kiln     E3      Kiln  37.1733  13.4939   \n",
              " 499    E3.1.1B.25_1  Scan2       Kiln     E3      Kiln  39.0336  12.2619   \n",
              " 500    E3.1.1B.38_2  Scan1       Kiln     E3      Kiln  39.6789  13.0757   \n",
              " 501    E3.1.1B.38_1  Scan2       Kiln     E3      Kiln  40.0388  11.8127   \n",
              " 502  I14.2.16B.53_2  Scan1       Kiln    I14      Kiln  57.8846   5.8675   \n",
              " 503  I14.2.16B.53_1  Scan2       Kiln    I14      Kiln  53.8414   4.9609   \n",
              " 504  I14.2.16B.44_2  Scan1       Kiln    I14      Kiln  57.4608   5.4648   \n",
              " 505  I14.2.16B.44_1  Scan2       Kiln    I14      Kiln  53.7371   5.0702   \n",
              " 506  I14.2.16B.15_2  Scan1       Kiln    I14      Kiln  55.1753   5.4412   \n",
              " 507  I14.2.16B.15_1  Scan2       Kiln    I14      Kiln  53.2749   5.0896   \n",
              " 508  I14.2.16B.10_2  Scan1       Kiln    I14      Kiln  54.6527   8.7527   \n",
              " 509  I14.2.16B.10_1  Scan2       Kiln    I14      Kiln  53.6807   7.9362   \n",
              " 510  I14.2.16B.42_2  Scan1       Kiln    I14      Kiln  59.7843   6.6326   \n",
              " 511  I14.2.16B.42_1  Scan2       Kiln    I14      Kiln  51.5228   5.9461   \n",
              " 512   D9.1.12B.22_2  Scan1       Kiln     D9      Kiln  48.6841   4.1942   \n",
              " 513   D9.1.12B.22_1  Scan2       Kiln     D9      Kiln  44.7149   6.8813   \n",
              " 514   D9.1.12B.19_2  Scan1       Kiln     D9      Kiln  62.2153   3.0775   \n",
              " 515   D9.1.12B.19_1  Scan2       Kiln     D9      Kiln  37.1797  11.9056   \n",
              " 516   D9.1.12B.27_2  Scan1       Kiln     D9      Kiln  46.4143   7.4256   \n",
              " 517   D9.1.12B.27_1  Scan2       Kiln     D9      Kiln  46.7555   5.9911   \n",
              " 518   D9.1.12B.18_2  Scan1       Kiln     D9      Kiln  49.1455   6.9350   \n",
              " 519   D9.1.12B.18_1  Scan2       Kiln     D9      Kiln  36.5661  10.5415   \n",
              " 520   D9.1.12B.09_2  Scan1       Kiln     D9      Kiln  53.6407   1.5014   \n",
              " 521   D9.1.12B.09_1  Scan2       Kiln     D9      Kiln  53.7158   2.0760   \n",
              " \n",
              "            B       400       410  ...       610       620       630       640  \\\n",
              " 492  10.1902  0.071914  0.070819  ...  0.146107  0.149084  0.153522  0.158874   \n",
              " 493   8.3161  0.065184  0.065154  ...  0.124443  0.127597  0.129840  0.132700   \n",
              " 494   9.1563  0.073213  0.072449  ...  0.142521  0.144805  0.148190  0.152803   \n",
              " 495  10.7612  0.065790  0.064162  ...  0.139724  0.143017  0.145690  0.149680   \n",
              " 496  10.1699  0.074064  0.072887  ...  0.149477  0.152545  0.157303  0.162972   \n",
              " 497  11.2291  0.088365  0.087607  ...  0.184419  0.191048  0.198593  0.205741   \n",
              " 498   9.9842  0.074834  0.072410  ...  0.150211  0.155193  0.161349  0.168874   \n",
              " 499  10.3400  0.079855  0.078291  ...  0.158845  0.162317  0.167963  0.174613   \n",
              " 500  11.3818  0.079306  0.077695  ...  0.167212  0.171111  0.176594  0.182892   \n",
              " 501  10.8845  0.082896  0.081044  ...  0.163997  0.167651  0.174035  0.181035   \n",
              " 502  13.9474  0.150648  0.162655  ...  0.312646  0.314590  0.319528  0.324519   \n",
              " 503  13.9793  0.127518  0.135164  ...  0.260376  0.262928  0.269190  0.274367   \n",
              " 504  14.1953  0.147301  0.159169  ...  0.308816  0.309487  0.310992  0.313441   \n",
              " 505  13.0177  0.128947  0.136033  ...  0.261132  0.262595  0.266486  0.270237   \n",
              " 506  15.5467  0.128036  0.136194  ...  0.280201  0.284456  0.291436  0.296851   \n",
              " 507  13.5815  0.124672  0.131473  ...  0.253790  0.256432  0.263356  0.268917   \n",
              " 508  16.3542  0.122717  0.130750  ...  0.296972  0.301918  0.307670  0.312772   \n",
              " 509  15.5277  0.121631  0.129398  ...  0.279649  0.282617  0.287205  0.292073   \n",
              " 510  13.9415  0.165381  0.179241  ...  0.341018  0.343392  0.348629  0.354362   \n",
              " 511  13.6396  0.115576  0.121087  ...  0.240814  0.243054  0.249907  0.255564   \n",
              " 512   9.3375  0.112946  0.118472  ...  0.200123  0.202076  0.207952  0.212213   \n",
              " 513  11.5503  0.091322  0.092022  ...  0.181312  0.181990  0.187118  0.192402   \n",
              " 514  10.5942  0.200100  0.216468  ...  0.347536  0.348321  0.348587  0.350340   \n",
              " 515  11.3112  0.066106  0.065961  ...  0.144569  0.147097  0.148887  0.151438   \n",
              " 516  12.8773  0.093933  0.096639  ...  0.200801  0.202934  0.207110  0.210581   \n",
              " 517  11.5730  0.095106  0.098766  ...  0.193596  0.198177  0.205522  0.209606   \n",
              " 518  12.9693  0.105577  0.110688  ...  0.227832  0.228248  0.228855  0.230426   \n",
              " 519  10.2820  0.065672  0.064813  ...  0.134414  0.137022  0.140229  0.143980   \n",
              " 520   5.8311  0.156646  0.169433  ...  0.227261  0.229034  0.235134  0.239226   \n",
              " 521   8.0171  0.145892  0.156363  ...  0.233902  0.236215  0.243296  0.248204   \n",
              " \n",
              "           650       660       670       680       690       700  \n",
              " 492  0.164991  0.169895  0.172959  0.175908  0.178396  0.181194  \n",
              " 493  0.136535  0.140166  0.143559  0.147332  0.150920  0.154863  \n",
              " 494  0.158647  0.163677  0.167158  0.170408  0.173149  0.176036  \n",
              " 495  0.155304  0.160524  0.164165  0.167454  0.170203  0.173371  \n",
              " 496  0.169339  0.174361  0.177465  0.180446  0.182934  0.185667  \n",
              " 497  0.212252  0.216819  0.220352  0.225219  0.229588  0.234396  \n",
              " 498  0.177430  0.184918  0.189895  0.194299  0.197675  0.201563  \n",
              " 499  0.182063  0.187999  0.191654  0.194989  0.197892  0.200863  \n",
              " 500  0.189915  0.195527  0.199149  0.202854  0.205788  0.208856  \n",
              " 501  0.188247  0.193436  0.196229  0.198975  0.201518  0.204451  \n",
              " 502  0.330447  0.334998  0.337516  0.340895  0.343317  0.346466  \n",
              " 503  0.279407  0.282569  0.283871  0.286039  0.287922  0.290118  \n",
              " 504  0.318573  0.323657  0.326438  0.329429  0.330974  0.332253  \n",
              " 505  0.274891  0.278257  0.279295  0.280806  0.281736  0.282939  \n",
              " 506  0.301687  0.304508  0.305158  0.306903  0.308356  0.310234  \n",
              " 507  0.273573  0.275960  0.276707  0.278738  0.280762  0.283522  \n",
              " 508  0.318764  0.323545  0.326627  0.330919  0.333979  0.337385  \n",
              " 509  0.298408  0.303335  0.305666  0.308353  0.309938  0.311626  \n",
              " 510  0.361108  0.366022  0.367755  0.370144  0.371558  0.373994  \n",
              " 511  0.260032  0.261947  0.262372  0.264571  0.266878  0.270350  \n",
              " 512  0.214499  0.213973  0.212893  0.214312  0.216475  0.220096  \n",
              " 513  0.197196  0.199654  0.200496  0.202678  0.205406  0.209692  \n",
              " 514  0.354743  0.358859  0.359621  0.361086  0.361025  0.361107  \n",
              " 515  0.155183  0.158199  0.160564  0.163182  0.165402  0.167591  \n",
              " 516  0.213510  0.214670  0.214880  0.217073  0.219617  0.223269  \n",
              " 517  0.210392  0.208454  0.207209  0.209573  0.213247  0.218570  \n",
              " 518  0.234285  0.237779  0.239573  0.242136  0.243529  0.244373  \n",
              " 519  0.148223  0.151387  0.153533  0.155868  0.158173  0.160617  \n",
              " 520  0.240536  0.238817  0.236900  0.237438  0.238973  0.242114  \n",
              " 521  0.250524  0.249976  0.248967  0.250212  0.252437  0.256325  \n",
              " \n",
              " [30 rows x 39 columns],\n",
              " 'Sandbath':            PlottedFind    Scan Assemblage Source Treatment        L        A  \\\n",
              " 273   RIV.001B.09_SB_3   Scan3   Sandbath    RIV    Heated  40.2078  13.2499   \n",
              " 274   RIV.001B.09_SB_2   Scan2   Sandbath    RIV    Heated  58.0830   0.7508   \n",
              " 275   RIV.001B.09_SB_1   Scan1   Sandbath    RIV    Heated  60.6824   0.1927   \n",
              " 276   RIV.001B.01_SB_3   Scan3   Sandbath    RIV    Heated  56.6002   0.6188   \n",
              " 277   RIV.001B.01_SB_2   Scan2   Sandbath    RIV    Heated  59.4065   0.6116   \n",
              " ...                ...     ...        ...    ...       ...      ...      ...   \n",
              " 3535        I14.02D.32  Scan 2   Sandbath    I14    Heated  31.5669  11.4111   \n",
              " 3536        I14.02D.32  Scan 1   Sandbath    I14    Heated  32.1847  11.4206   \n",
              " 3537        I14.02D.13  Scan 1   Sandbath    I14    Heated  27.1750   9.3496   \n",
              " 3538        I14.02D.13  Scan 2   Sandbath    I14    Heated  28.0869   9.5992   \n",
              " 3539        I14.02D.13  Scan 3   Sandbath    I14    Heated  27.7686  10.3532   \n",
              " \n",
              "             B       400       410  ...       610       620       630  \\\n",
              " 273   15.1231  0.078219  0.074605  ...  0.172705  0.179277  0.188638   \n",
              " 274    6.7430  0.184362  0.202601  ...  0.273566  0.275273  0.278536   \n",
              " 275    5.9279  0.205961  0.230618  ...  0.301852  0.301869  0.300689   \n",
              " 276    5.4480  0.180333  0.198395  ...  0.255349  0.256143  0.258473   \n",
              " 277    6.2727  0.198456  0.218015  ...  0.289990  0.289426  0.288480   \n",
              " ...       ...       ...       ...  ...       ...       ...       ...   \n",
              " 3535   9.2173  0.051874  0.049382  ...  0.108905  0.113787  0.115267   \n",
              " 3536   9.4312  0.053577  0.051425  ...  0.113180  0.117535  0.119138   \n",
              " 3537   7.5276  0.041299  0.039219  ...  0.081004  0.085825  0.084462   \n",
              " 3538   6.7274  0.045762  0.042531  ...  0.083869  0.088854  0.089150   \n",
              " 3539   7.6590  0.042556  0.039369  ...  0.085388  0.090478  0.090285   \n",
              " \n",
              "            640       650       660       670       680       690       700  \n",
              " 273   0.198074  0.207127  0.214353  0.219177  0.223935  0.227584  0.231458  \n",
              " 274   0.280587  0.281340  0.279672  0.276915  0.276137  0.275997  0.277613  \n",
              " 275   0.300009  0.300942  0.300986  0.299060  0.297977  0.296322  0.295045  \n",
              " 276   0.259833  0.260245  0.258500  0.256186  0.255625  0.255620  0.256917  \n",
              " 277   0.288560  0.290582  0.291989  0.291332  0.291269  0.290208  0.289130  \n",
              " ...        ...       ...       ...       ...       ...       ...       ...  \n",
              " 3535  0.115306  0.116170  0.117736  0.119951  0.123430  0.128211  0.132076  \n",
              " 3536  0.119514  0.120909  0.122560  0.124889  0.128495  0.133337  0.137537  \n",
              " 3537  0.081950  0.080368  0.084267  0.090290  0.094673  0.098816  0.098498  \n",
              " 3538  0.088984  0.088646  0.090023  0.091784  0.095696  0.101332  0.104685  \n",
              " 3539  0.089572  0.088504  0.089966  0.092196  0.096404  0.102317  0.105507  \n",
              " \n",
              " [2061 rows x 39 columns],\n",
              " 'Unheated':            PlottedFind    Scan Assemblage Source Treatment        L       A  \\\n",
              " 108   I14.001A.03_UH_3   Scan3   Unheated    I14  Unheated  50.9476  5.6277   \n",
              " 109   I14.001A.03_UH_2   Scan2   Unheated    I14  Unheated  52.4603  3.4529   \n",
              " 110   I14.001A.03_UH_1   Scan1   Unheated    I14  Unheated  54.9196  5.2425   \n",
              " 111   I14.001A.12_UH_3   Scan3   Unheated    I14  Unheated  50.3689  5.0204   \n",
              " 112   I14.001A.12_UH_2   Scan2   Unheated    I14  Unheated  52.4664  5.2295   \n",
              " ...                ...     ...        ...    ...       ...      ...     ...   \n",
              " 3508        I14.04A.02  Scan 2   Unheated    I14  Unheated  49.9632  5.9639   \n",
              " 3509        I14.04A.02  Scan 1   Unheated    I14  Unheated  51.8562  4.7063   \n",
              " 3510        I14.04A.12  Scan 3   Unheated    I14  Unheated  59.9559  1.7266   \n",
              " 3511        I14.04A.12  Scan 2   Unheated    I14  Unheated  56.3493  4.1492   \n",
              " 3512        I14.04A.12  Scan 1   Unheated    I14  Unheated  58.2975  1.7263   \n",
              " \n",
              "             B       400       410  ...       610       620       630  \\\n",
              " 108   21.4905  0.052241  0.049294  ...  0.254808  0.249995  0.249824   \n",
              " 109   15.7464  0.101989  0.104533  ...  0.244912  0.248441  0.253055   \n",
              " 110   12.9043  0.161340  0.165258  ...  0.271590  0.277397  0.280277   \n",
              " 111   16.5466  0.098942  0.100205  ...  0.230815  0.236085  0.240823   \n",
              " 112   15.4330  0.105516  0.109027  ...  0.253743  0.257641  0.260237   \n",
              " ...       ...       ...       ...  ...       ...       ...       ...   \n",
              " 3508  18.4890  0.083147  0.085463  ...  0.231697  0.233196  0.235258   \n",
              " 3509  16.5606  0.102501  0.106140  ...  0.243163  0.244900  0.247476   \n",
              " 3510  12.2677  0.163057  0.170090  ...  0.318725  0.318323  0.320158   \n",
              " 3511  17.0422  0.121242  0.124197  ...  0.296041  0.296516  0.300476   \n",
              " 3512  13.4574  0.149127  0.153980  ...  0.300297  0.300573  0.302803   \n",
              " \n",
              "            640       650       660       670       680       690       700  \n",
              " 108   0.245232  0.246393  0.248988  0.252596  0.261174  0.270013  0.281889  \n",
              " 109   0.255251  0.260596  0.263041  0.262621  0.262311  0.262818  0.265213  \n",
              " 110   0.280328  0.280747  0.279189  0.275247  0.271289  0.265867  0.259746  \n",
              " 111   0.242828  0.246594  0.247788  0.247213  0.245765  0.245169  0.246661  \n",
              " 112   0.258981  0.259737  0.257717  0.255843  0.255486  0.255196  0.256798  \n",
              " ...        ...       ...       ...       ...       ...       ...       ...  \n",
              " 3508  0.234999  0.237592  0.239681  0.241191  0.243617  0.246359  0.249719  \n",
              " 3509  0.248349  0.251933  0.254813  0.255773  0.257073  0.258895  0.261271  \n",
              " 3510  0.322115  0.327511  0.331798  0.333934  0.337740  0.340458  0.343079  \n",
              " 3511  0.304591  0.313014  0.319749  0.323316  0.328267  0.333088  0.339718  \n",
              " 3512  0.304267  0.309466  0.313196  0.314318  0.317000  0.318816  0.320447  \n",
              " \n",
              " [783 rows x 39 columns]}"
            ]
          },
          "metadata": {},
          "execution_count": 5
        }
      ],
      "source": [
        "dict_of_dfs"
      ]
    },
    {
      "cell_type": "code",
      "execution_count": 6,
      "metadata": {
        "id": "CGAIGrmH6bqQ",
        "colab": {
          "base_uri": "https://localhost:8080/"
        },
        "outputId": "6d007322-c095-40d2-c9e5-4376bed427c8"
      },
      "outputs": [
        {
          "output_type": "stream",
          "name": "stderr",
          "text": [
            "<ipython-input-6-345958cf249e>:4: FutureWarning: The default value of numeric_only in DataFrameGroupBy.mean is deprecated. In a future version, numeric_only will default to False. Either specify numeric_only or select only columns which should be valid for the function.\n",
            "  grouped_sandbath = Sandbath.groupby(\"PlottedFind\", as_index=False).mean()\n"
          ]
        }
      ],
      "source": [
        "# Group all sandbath plotted finds and calculate the mean of the 3 scans\n",
        "Sandbath = dict_of_dfs['Sandbath']\n",
        "Sandbath['PlottedFind'] = df[\"PlottedFind\"]\n",
        "grouped_sandbath = Sandbath.groupby(\"PlottedFind\", as_index=False).mean()"
      ]
    },
    {
      "cell_type": "code",
      "source": [
        "#Group all unheated plotted finds and calculate the mean of the 3 scans\n",
        "Unheated = dict_of_dfs['Unheated']\n",
        "grouped_Unheated = Unheated.groupby(\"PlottedFind\", as_index=False).mean()"
      ],
      "metadata": {
        "colab": {
          "base_uri": "https://localhost:8080/"
        },
        "id": "3f6m2PQ7kcez",
        "outputId": "f905c429-cee1-4d1b-f2f0-2d79c249f242"
      },
      "execution_count": 7,
      "outputs": [
        {
          "output_type": "stream",
          "name": "stderr",
          "text": [
            "<ipython-input-7-adc989722180>:3: FutureWarning: The default value of numeric_only in DataFrameGroupBy.mean is deprecated. In a future version, numeric_only will default to False. Either specify numeric_only or select only columns which should be valid for the function.\n",
            "  grouped_Unheated = Unheated.groupby(\"PlottedFind\", as_index=False).mean()\n"
          ]
        }
      ]
    },
    {
      "cell_type": "code",
      "source": [
        "Direct = dict_of_dfs['Direct']\n",
        "grouped_Direct = Direct.groupby(\"PlottedFind\", as_index=False).mean()"
      ],
      "metadata": {
        "colab": {
          "base_uri": "https://localhost:8080/"
        },
        "id": "J3tcw6o-lUkG",
        "outputId": "3273ee93-9432-456d-ddd7-177e3f6a9219"
      },
      "execution_count": 8,
      "outputs": [
        {
          "output_type": "stream",
          "name": "stderr",
          "text": [
            "<ipython-input-8-3d11af7f94a4>:2: FutureWarning: The default value of numeric_only in DataFrameGroupBy.mean is deprecated. In a future version, numeric_only will default to False. Either specify numeric_only or select only columns which should be valid for the function.\n",
            "  grouped_Direct = Direct.groupby(\"PlottedFind\", as_index=False).mean()\n"
          ]
        }
      ]
    },
    {
      "cell_type": "code",
      "source": [
        "Ember = dict_of_dfs[\"Ember\"]\n",
        "grouped_Ember = Ember.groupby(\"PlottedFind\", as_index=False).mean()"
      ],
      "metadata": {
        "colab": {
          "base_uri": "https://localhost:8080/"
        },
        "id": "LKc5FT0imK18",
        "outputId": "ffcbdf80-69ea-42b1-fb47-3ac10e92d200"
      },
      "execution_count": 9,
      "outputs": [
        {
          "output_type": "stream",
          "name": "stderr",
          "text": [
            "<ipython-input-9-c76410632264>:2: FutureWarning: The default value of numeric_only in DataFrameGroupBy.mean is deprecated. In a future version, numeric_only will default to False. Either specify numeric_only or select only columns which should be valid for the function.\n",
            "  grouped_Ember = Ember.groupby(\"PlottedFind\", as_index=False).mean()\n"
          ]
        }
      ]
    },
    {
      "cell_type": "code",
      "source": [
        "print(grouped_sandbath.columns)\n",
        "print(grouped_Direct.columns)\n",
        "print(grouped_Ember.columns)\n",
        "print(grouped_Unheated.columns)"
      ],
      "metadata": {
        "colab": {
          "base_uri": "https://localhost:8080/"
        },
        "id": "SEjzfX579jpt",
        "outputId": "bb9d58e9-8b55-4b6a-869a-9aa66c2a226a"
      },
      "execution_count": 10,
      "outputs": [
        {
          "output_type": "stream",
          "name": "stdout",
          "text": [
            "Index(['PlottedFind',           'L',           'A',           'B',\n",
            "                 400,           410,           420,           430,\n",
            "                 440,           450,           460,           470,\n",
            "                 480,           490,           500,           510,\n",
            "                 520,           530,           540,           550,\n",
            "                 560,           570,           580,           590,\n",
            "                 600,           610,           620,           630,\n",
            "                 640,           650,           660,           670,\n",
            "                 680,           690,           700],\n",
            "      dtype='object')\n",
            "Index(['PlottedFind',           'L',           'A',           'B',\n",
            "                 400,           410,           420,           430,\n",
            "                 440,           450,           460,           470,\n",
            "                 480,           490,           500,           510,\n",
            "                 520,           530,           540,           550,\n",
            "                 560,           570,           580,           590,\n",
            "                 600,           610,           620,           630,\n",
            "                 640,           650,           660,           670,\n",
            "                 680,           690,           700],\n",
            "      dtype='object')\n",
            "Index(['PlottedFind',           'L',           'A',           'B',\n",
            "                 400,           410,           420,           430,\n",
            "                 440,           450,           460,           470,\n",
            "                 480,           490,           500,           510,\n",
            "                 520,           530,           540,           550,\n",
            "                 560,           570,           580,           590,\n",
            "                 600,           610,           620,           630,\n",
            "                 640,           650,           660,           670,\n",
            "                 680,           690,           700],\n",
            "      dtype='object')\n",
            "Index(['PlottedFind',           'L',           'A',           'B',\n",
            "                 400,           410,           420,           430,\n",
            "                 440,           450,           460,           470,\n",
            "                 480,           490,           500,           510,\n",
            "                 520,           530,           540,           550,\n",
            "                 560,           570,           580,           590,\n",
            "                 600,           610,           620,           630,\n",
            "                 640,           650,           660,           670,\n",
            "                 680,           690,           700],\n",
            "      dtype='object')\n"
          ]
        }
      ]
    },
    {
      "cell_type": "code",
      "source": [
        "print(\"Column Value: L\")\n",
        "print(f_oneway(grouped_sandbath['L'], grouped_Direct['L'], grouped_Ember['L'],grouped_Unheated['L']))\n",
        "print(\"Column Value: A\")\n",
        "print(f_oneway(grouped_sandbath['A'], grouped_Direct['A'], grouped_Ember['A'],grouped_Unheated['A']))\n",
        "print(\"Column Value: B\")\n",
        "print(f_oneway(grouped_sandbath['B'], grouped_Direct['B'], grouped_Ember['B'],grouped_Unheated['B']))\n",
        "\n",
        "i = 400\n",
        "\n",
        "while i < 710:\n",
        "  print(\"Column Value: \" + str(i))\n",
        "  print(f_oneway(grouped_sandbath[i], grouped_Direct[i], grouped_Ember[i],grouped_Unheated[i]))\n",
        "  i += 10\n"
      ],
      "metadata": {
        "colab": {
          "base_uri": "https://localhost:8080/"
        },
        "id": "kIsCyQ1gnRdT",
        "outputId": "9013a09d-cd3a-4b25-fed0-4561a4d066fb"
      },
      "execution_count": 11,
      "outputs": [
        {
          "output_type": "stream",
          "name": "stdout",
          "text": [
            "Column Value: L\n",
            "F_onewayResult(statistic=149.8050029530543, pvalue=1.566823911210006e-86)\n",
            "Column Value: A\n",
            "F_onewayResult(statistic=26.97595980259031, pvalue=4.650857736276939e-17)\n",
            "Column Value: B\n",
            "F_onewayResult(statistic=76.28466738312049, pvalue=2.071918844094645e-46)\n",
            "Column Value: 400\n",
            "F_onewayResult(statistic=113.68331836677879, pvalue=2.4778454248481472e-67)\n",
            "Column Value: 410\n",
            "F_onewayResult(statistic=119.3110368291125, pvalue=2.1878513733674486e-70)\n",
            "Column Value: 420\n",
            "F_onewayResult(statistic=123.91674660883118, pvalue=7.214929691822598e-73)\n",
            "Column Value: 430\n",
            "F_onewayResult(statistic=129.4066834698171, pvalue=8.32639215210727e-76)\n",
            "Column Value: 440\n",
            "F_onewayResult(statistic=135.3033727781129, pvalue=6.158726833290135e-79)\n",
            "Column Value: 450\n",
            "F_onewayResult(statistic=138.4282539683426, pvalue=1.3817216469417e-80)\n",
            "Column Value: 460\n",
            "F_onewayResult(statistic=137.8318765872398, pvalue=2.848416157152579e-80)\n",
            "Column Value: 470\n",
            "F_onewayResult(statistic=136.7542669544989, pvalue=1.05427153345472e-79)\n",
            "Column Value: 480\n",
            "F_onewayResult(statistic=133.42982237574836, pvalue=6.047353402645549e-78)\n",
            "Column Value: 490\n",
            "F_onewayResult(statistic=131.63673909068288, pvalue=5.412568582742745e-77)\n",
            "Column Value: 500\n",
            "F_onewayResult(statistic=132.97221324345435, pvalue=1.0574529571172263e-77)\n",
            "Column Value: 510\n",
            "F_onewayResult(statistic=138.38719977903116, pvalue=1.4522472340356033e-80)\n",
            "Column Value: 520\n",
            "F_onewayResult(statistic=147.62428088871596, pvalue=2.126317122920847e-85)\n",
            "Column Value: 530\n",
            "F_onewayResult(statistic=156.85944996101517, pvalue=3.577537858862165e-90)\n",
            "Column Value: 540\n",
            "F_onewayResult(statistic=163.00940679432935, pvalue=2.5507069328530358e-93)\n",
            "Column Value: 550\n",
            "F_onewayResult(statistic=169.0114241887862, pvalue=2.2900615812662174e-96)\n",
            "Column Value: 560\n",
            "F_onewayResult(statistic=175.56101228482893, pvalue=1.1538566519530819e-99)\n",
            "Column Value: 570\n",
            "F_onewayResult(statistic=181.04485291334944, pvalue=2.1012087755823268e-102)\n",
            "Column Value: 580\n",
            "F_onewayResult(statistic=182.39942783876913, pvalue=4.453553537785069e-103)\n",
            "Column Value: 590\n",
            "F_onewayResult(statistic=177.8399476885996, pvalue=8.341835415232149e-101)\n",
            "Column Value: 600\n",
            "F_onewayResult(statistic=171.61281547626635, pvalue=1.1135158011888422e-97)\n",
            "Column Value: 610\n",
            "F_onewayResult(statistic=167.4482136684532, pvalue=1.416056625159513e-95)\n",
            "Column Value: 620\n",
            "F_onewayResult(statistic=167.14457508475536, pvalue=2.0181686654499146e-95)\n",
            "Column Value: 630\n",
            "F_onewayResult(statistic=166.18512889160874, pvalue=6.18847397341952e-95)\n",
            "Column Value: 640\n",
            "F_onewayResult(statistic=163.78097743072544, pvalue=1.0319157233028306e-93)\n",
            "Column Value: 650\n",
            "F_onewayResult(statistic=160.6737305172224, pvalue=3.970269388426864e-92)\n",
            "Column Value: 660\n",
            "F_onewayResult(statistic=157.93615705887552, pvalue=1.0018196163631982e-90)\n",
            "Column Value: 670\n",
            "F_onewayResult(statistic=155.019660614264, pvalue=3.162130134297777e-89)\n",
            "Column Value: 680\n",
            "F_onewayResult(statistic=150.62262596150634, pvalue=5.904978801742098e-87)\n",
            "Column Value: 690\n",
            "F_onewayResult(statistic=146.05309610598925, pvalue=1.3986500805030248e-84)\n",
            "Column Value: 700\n",
            "F_onewayResult(statistic=140.28042927001127, pvalue=1.4664713515834754e-81)\n"
          ]
        }
      ]
    },
    {
      "cell_type": "code",
      "source": [
        "num = format(3.121306262943205e-19, '.10f')\n",
        "print(num)"
      ],
      "metadata": {
        "colab": {
          "base_uri": "https://localhost:8080/"
        },
        "id": "G3qFejeCn82A",
        "outputId": "7099eb55-8813-4685-83df-e7767ddf8265"
      },
      "execution_count": null,
      "outputs": [
        {
          "output_type": "stream",
          "name": "stdout",
          "text": [
            "0.0000000000\n"
          ]
        }
      ]
    }
  ],
  "metadata": {
    "colab": {
      "provenance": []
    },
    "kernelspec": {
      "display_name": "Python 3",
      "name": "python3"
    },
    "language_info": {
      "name": "python"
    }
  },
  "nbformat": 4,
  "nbformat_minor": 0
}